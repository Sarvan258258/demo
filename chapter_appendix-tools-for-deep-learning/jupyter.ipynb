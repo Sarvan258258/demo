{
  "cells": [
    {
      "cell_type": "markdown",
      "metadata": {
        "id": "view-in-github",
        "colab_type": "text"
      },
      "source": [
        "<a href=\"https://colab.research.google.com/github/Sarvan258258/demo/blob/main/chapter_appendix-tools-for-deep-learning/jupyter.ipynb\" target=\"_parent\"><img src=\"https://colab.research.google.com/assets/colab-badge.svg\" alt=\"Open In Colab\"/></a>"
      ]
    },
    {
      "cell_type": "code",
      "source": [
        "from google.colab import drive\n",
        "import os\n",
        "import pandas as pd\n",
        "from tabulate import tabulate\n",
        "\n",
        "# 1. Mount Google Drive\n",
        "drive.mount('/content/drive')\n",
        "\n",
        "# 2. Set dataset path (update if folder name is different)\n",
        "dataset_path = \"/content/drive/MyDrive/AI_Tracefinder\"\n",
        "\n",
        "# 3. Collect images and counts\n",
        "data_summary = []\n",
        "\n",
        "for root, dirs, files in os.walk(dataset_path):\n",
        "    image_files = [f for f in files if f.lower().endswith(('.tif', '.tiff', '.png', '.jpg', '.jpeg'))]\n",
        "    if image_files:\n",
        "        data_summary.append([root.replace(dataset_path, \"\"), len(image_files)])\n",
        "\n",
        "# 4. Convert to DataFrame for better visualization\n",
        "df_summary = pd.DataFrame(data_summary, columns=[\"Folder\", \"Image Count\"])\n",
        "\n",
        "# 5. Display in tabular form\n",
        "print(tabulate(df_summary, headers='keys', tablefmt='pretty'))\n",
        "\n",
        "# 6. Save summary if needed\n",
        "df_summary.to_csv(\"dataset_image_counts.csv\", index=False)\n",
        "print(\"\\n✅ Summary saved to dataset_image_counts.csv\")\n"
      ],
      "metadata": {
        "id": "kQuEAG66dd-B"
      },
      "id": "kQuEAG66dd-B",
      "execution_count": null,
      "outputs": []
    }
  ],
  "metadata": {
    "kernelspec": {
      "display_name": "Python 3",
      "name": "python3"
    },
    "language_info": {
      "name": "python"
    },
    "required_libs": [],
    "colab": {
      "provenance": [],
      "include_colab_link": true
    }
  },
  "nbformat": 4,
  "nbformat_minor": 5
}